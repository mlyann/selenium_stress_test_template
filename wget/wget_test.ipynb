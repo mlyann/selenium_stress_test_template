{
 "cells": [
  {
   "cell_type": "code",
   "execution_count": 2,
   "metadata": {},
   "outputs": [],
   "source": [
    "import time\n",
    "import os\n",
    "import numpy as np\n",
    "import matplotlib.pyplot as plt\n",
    "\n",
    "%matplotlib inline"
   ]
  },
  {
   "cell_type": "code",
   "execution_count": 3,
   "metadata": {},
   "outputs": [],
   "source": [
    "MeetingURL = \"https://develop.blackstoneamoffice.com/editors/Reports/MeetingStatusReport.aspx?meetingid=2699\"\n",
    "NUM = 5\n",
    "TIME_LINE = 10"
   ]
  },
  {
   "cell_type": "code",
   "execution_count": 4,
   "metadata": {},
   "outputs": [],
   "source": [
    "def collect_load_times(MeetingURL, num):\n",
    "    timestamps = []\n",
    "    load_times = []\n",
    "    \n",
    "    for i in range(num):\n",
    "        start = time.time()\n",
    "        filename = f\"MeetingStatusReport_{i}.aspx\"\n",
    "        os.system(f'wget {MeetingURL} -O {filename}')\n",
    "        end = time.time()\n",
    "        os.system(f\"rm {filename}\")\n",
    "        delta = end - start\n",
    "\n",
    "        print(\"--------------------Loading Time--------------------\")\n",
    "        print(delta)\n",
    "        print(\"----------------------------------------------------\")\n",
    "\n",
    "\n",
    "        timestamps.append(time.strftime('%Y-%m-%d %H:%M:%S', time.localtime(start)))\n",
    "        load_times.append(delta)\n",
    "\n",
    "        time.sleep(5)\n",
    "    \n",
    "    return timestamps, load_times"
   ]
  },
  {
   "cell_type": "code",
   "execution_count": 5,
   "metadata": {},
   "outputs": [],
   "source": [
    "def calculate_statistics(load_times, loading_time_line):\n",
    "    stats = {}\n",
    "    stats['count_exceeding'] = np.sum(np.array(load_times) > loading_time_line)\n",
    "    stats['mean'] = np.mean(load_times)\n",
    "    stats['median'] = np.median(load_times)\n",
    "    stats['max'] = np.max(load_times)\n",
    "    stats['min'] = np.min(load_times)\n",
    "    \n",
    "    return stats"
   ]
  },
  {
   "cell_type": "code",
   "execution_count": 6,
   "metadata": {},
   "outputs": [],
   "source": [
    "def plot_load_times(timestamps, load_times, stats):\n",
    "    # Display statistics\n",
    "    print(\n",
    "        f\"Counts of Exceeding Loading Time Line ({stats['mean']} seconds): {stats['count_exceeding']}\\n\"\n",
    "        f\"Mean of Loading Time: {stats['mean']}\\n\"\n",
    "        f\"Median of Loading Time: {stats['median']}\\n\"\n",
    "        f\"Max of Loading Time: {stats['max']}\\n\"\n",
    "        f\"Min of Loading Time: {stats['min']}\\n\"\n",
    "    )\n",
    "\n",
    "    # Plotting\n",
    "    plt.figure(figsize=(10, 5))\n",
    "    plt.plot(timestamps, load_times, marker='o', linestyle='-')\n",
    "    plt.xticks(rotation=45, ha='right')\n",
    "    plt.xlabel('Timestamp')\n",
    "    plt.ylabel('Loading Time (s)')\n",
    "    plt.title('Webpage Loading Times Over Multiple Requests')\n",
    "    plt.grid(True)\n",
    "    plt.tight_layout()\n",
    "    plt.show()\n",
    "\n",
    "    print(stats)"
   ]
  },
  {
   "cell_type": "code",
   "execution_count": 9,
   "metadata": {},
   "outputs": [],
   "source": [
    "def print_loading_times(timestamps, load_times):\n",
    "    print(\"Timestamp and Loading Times:\")\n",
    "    print(\"----------------------------\")\n",
    "    for timestamp, load_time in zip(timestamps, load_times):\n",
    "        print(f\"{timestamp}: {load_time:.2f} seconds\")\n",
    "    print(\"----------------------------\")"
   ]
  },
  {
   "cell_type": "code",
   "execution_count": 10,
   "metadata": {},
   "outputs": [
    {
     "name": "stderr",
     "output_type": "stream",
     "text": [
      "--2024-07-23 08:17:26--  https://develop.blackstoneamoffice.com/editors/Reports/MeetingStatusReport.aspx?meetingid=2699\n",
      "Resolving develop.blackstoneamoffice.com (develop.blackstoneamoffice.com)... 35.175.164.203\n",
      "Connecting to develop.blackstoneamoffice.com (develop.blackstoneamoffice.com)|35.175.164.203|:443... connected.\n",
      "HTTP request sent, awaiting response... 200 OK\n",
      "Length: 194768 (190K) [text/html]\n",
      "Saving to: ‘MeetingStatusReport_0.aspx’\n",
      "\n",
      "     0K .......... .......... .......... .......... .......... 26% 1.88M 0s\n",
      "    50K .......... .......... .......... .......... .......... 52% 5.50M 0s\n",
      "   100K .......... .......... .......... .......... .......... 78% 32.8M 0s\n",
      "   150K .......... .......... .......... ..........           100% 47.2M=0.04s\n",
      "\n",
      "2024-07-23 08:17:30 (5.00 MB/s) - ‘MeetingStatusReport_0.aspx’ saved [194768/194768]\n",
      "\n"
     ]
    },
    {
     "name": "stdout",
     "output_type": "stream",
     "text": [
      "--------------------Loading Time--------------------\n",
      "3.8656718730926514\n",
      "----------------------------------------------------\n"
     ]
    },
    {
     "name": "stderr",
     "output_type": "stream",
     "text": [
      "--2024-07-23 08:17:35--  https://develop.blackstoneamoffice.com/editors/Reports/MeetingStatusReport.aspx?meetingid=2699\n",
      "Resolving develop.blackstoneamoffice.com (develop.blackstoneamoffice.com)... 35.175.164.203\n",
      "Connecting to develop.blackstoneamoffice.com (develop.blackstoneamoffice.com)|35.175.164.203|:443... connected.\n",
      "HTTP request sent, awaiting response... 200 OK\n",
      "Length: 194768 (190K) [text/html]\n",
      "Saving to: ‘MeetingStatusReport_1.aspx’\n",
      "\n",
      "     0K .......... .......... .......... .......... .......... 26% 1.88M 0s\n",
      "    50K .......... .......... .......... .......... .......... 52% 5.22M 0s\n",
      "   100K .......... .......... .......... .......... .......... 78% 34.1M 0s\n",
      "   150K .......... .......... .......... ..........           100%  162M=0.04s\n",
      "\n",
      "2024-07-23 08:17:38 (5.01 MB/s) - ‘MeetingStatusReport_1.aspx’ saved [194768/194768]\n",
      "\n"
     ]
    },
    {
     "name": "stdout",
     "output_type": "stream",
     "text": [
      "--------------------Loading Time--------------------\n",
      "3.897062063217163\n",
      "----------------------------------------------------\n"
     ]
    },
    {
     "name": "stderr",
     "output_type": "stream",
     "text": [
      "--2024-07-23 08:17:44--  https://develop.blackstoneamoffice.com/editors/Reports/MeetingStatusReport.aspx?meetingid=2699\n",
      "Resolving develop.blackstoneamoffice.com (develop.blackstoneamoffice.com)... 35.175.164.203\n",
      "Connecting to develop.blackstoneamoffice.com (develop.blackstoneamoffice.com)|35.175.164.203|:443... connected.\n",
      "HTTP request sent, awaiting response... 200 OK\n",
      "Length: 194768 (190K) [text/html]\n",
      "Saving to: ‘MeetingStatusReport_2.aspx’\n",
      "\n",
      "     0K .......... .......... .......... .......... .......... 26% 2.90M 0s\n",
      "    50K .......... .......... .......... .......... .......... 52% 4.81M 0s\n",
      "   100K .......... .......... .......... .......... .......... 78% 29.4M 0s\n",
      "   150K .......... .......... .......... ..........           100%  200M=0.03s\n",
      "\n",
      "2024-07-23 08:17:47 (6.44 MB/s) - ‘MeetingStatusReport_2.aspx’ saved [194768/194768]\n",
      "\n"
     ]
    },
    {
     "name": "stdout",
     "output_type": "stream",
     "text": [
      "--------------------Loading Time--------------------\n",
      "3.681668281555176\n",
      "----------------------------------------------------\n"
     ]
    },
    {
     "name": "stderr",
     "output_type": "stream",
     "text": [
      "--2024-07-23 08:17:52--  https://develop.blackstoneamoffice.com/editors/Reports/MeetingStatusReport.aspx?meetingid=2699\n",
      "Resolving develop.blackstoneamoffice.com (develop.blackstoneamoffice.com)... 35.175.164.203\n",
      "Connecting to develop.blackstoneamoffice.com (develop.blackstoneamoffice.com)|35.175.164.203|:443... connected.\n",
      "HTTP request sent, awaiting response... 200 OK\n",
      "Length: 194768 (190K) [text/html]\n",
      "Saving to: ‘MeetingStatusReport_3.aspx’\n",
      "\n",
      "     0K .......... .......... .......... .......... .......... 26% 2.63M 0s\n",
      "    50K .......... .......... .......... .......... .......... 52% 5.27M 0s\n",
      "   100K .......... .......... .......... .......... .......... 78% 9.29M 0s\n",
      "   150K .......... .......... .......... ..........           100%  110M=0.03s\n",
      "\n",
      "2024-07-23 08:17:56 (5.55 MB/s) - ‘MeetingStatusReport_3.aspx’ saved [194768/194768]\n",
      "\n"
     ]
    },
    {
     "name": "stdout",
     "output_type": "stream",
     "text": [
      "--------------------Loading Time--------------------\n",
      "3.697054147720337\n",
      "----------------------------------------------------\n"
     ]
    },
    {
     "name": "stderr",
     "output_type": "stream",
     "text": [
      "--2024-07-23 08:18:01--  https://develop.blackstoneamoffice.com/editors/Reports/MeetingStatusReport.aspx?meetingid=2699\n",
      "Resolving develop.blackstoneamoffice.com (develop.blackstoneamoffice.com)... 35.175.164.203\n",
      "Connecting to develop.blackstoneamoffice.com (develop.blackstoneamoffice.com)|35.175.164.203|:443... connected.\n",
      "HTTP request sent, awaiting response... 200 OK\n",
      "Length: 194768 (190K) [text/html]\n",
      "Saving to: ‘MeetingStatusReport_4.aspx’\n",
      "\n",
      "     0K .......... .......... .......... .......... .......... 26%  913K 0s\n",
      "    50K .......... .......... .......... .......... .......... 52% 1.25M 0s\n",
      "   100K .......... .......... .......... .......... .......... 78% 1.25M 0s\n",
      "   150K .......... .......... .......... ..........           100% 1.93M=0.2s\n",
      "\n",
      "2024-07-23 08:18:05 (1.21 MB/s) - ‘MeetingStatusReport_4.aspx’ saved [194768/194768]\n",
      "\n"
     ]
    },
    {
     "name": "stdout",
     "output_type": "stream",
     "text": [
      "--------------------Loading Time--------------------\n",
      "4.102489709854126\n",
      "----------------------------------------------------\n",
      "Counts of Exceeding Loading Time Line (3.8487892150878906 seconds): 0\n",
      "Mean of Loading Time: 3.8487892150878906\n",
      "Median of Loading Time: 3.8656718730926514\n",
      "Max of Loading Time: 4.102489709854126\n",
      "Min of Loading Time: 3.681668281555176\n",
      "\n"
     ]
    },
    {
     "data": {
      "image/png": "[encoded data removed]",
      "text/plain": [
       "<Figure size 1000x500 with 1 Axes>"
      ]
     },
     "metadata": {},
     "output_type": "display_data"
    },
    {
     "name": "stdout",
     "output_type": "stream",
     "text": [
      "{'count_exceeding': 0, 'mean': 3.8487892150878906, 'median': 3.8656718730926514, 'max': 4.102489709854126, 'min': 3.681668281555176}\n",
      "Timestamp and Loading Times:\n",
      "----------------------------\n",
      "2024-07-23 08:17:26: 3.87 seconds\n",
      "2024-07-23 08:17:35: 3.90 seconds\n",
      "2024-07-23 08:17:44: 3.68 seconds\n",
      "2024-07-23 08:17:52: 3.70 seconds\n",
      "2024-07-23 08:18:01: 4.10 seconds\n",
      "----------------------------\n"
     ]
    }
   ],
   "source": [
    "timestamps, load_times = collect_load_times(MeetingURL, NUM)\n",
    "stats = calculate_statistics(load_times, TIME_LINE)\n",
    "plot_load_times(timestamps, load_times, stats)\n",
    "print_loading_times(timestamps, load_times)"
   ]
  },
  {
   "cell_type": "code",
   "execution_count": null,
   "metadata": {},
   "outputs": [],
   "source": []
  }
 ],
 "metadata": {
  "kernelspec": {
   "display_name": "Python 3",
   "language": "python",
   "name": "python3"
  },
  "language_info": {
   "codemirror_mode": {
    "name": "ipython",
    "version": 3
   },
   "file_extension": ".py",
   "mimetype": "text/x-python",
   "name": "python",
   "nbconvert_exporter": "python",
   "pygments_lexer": "ipython3",
   "version": "3.9.6"
  }
 },
 "nbformat": 4,
 "nbformat_minor": 2
}
